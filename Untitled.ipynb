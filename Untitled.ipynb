{
 "cells": [
  {
   "cell_type": "code",
   "execution_count": 47,
   "id": "08dba4cd",
   "metadata": {},
   "outputs": [
    {
     "name": "stdout",
     "output_type": "stream",
     "text": [
      "[(40, 215), (92, 1064), (97, 1505), (90, 1100)]\n",
      "40929790 215106415051100\n",
      "Day 6 - Solution 1: 6209190\n",
      "Day 6 - Solution 2: 28545089\n"
     ]
    }
   ],
   "source": [
    "### https://adventofcode.com/2023/day/6\n",
    "\n",
    "import re\n",
    "import numpy as np\n",
    "\n",
    "def read_file(file_name):\n",
    "    with open(file_name, 'r') as f_in:\n",
    "        return list(filter(None, [line.strip() for line in f_in.readlines()]))\n",
    "    \n",
    "\n",
    "def get_value(data_row, title, type_str=\"\"):\n",
    "    data_row = data_row.replace(title, \"\").strip()\n",
    "    if type_str == \"int\":\n",
    "        return [int(item) for item in re.split(r'\\s+', data_row)]\n",
    "    return [item for item in re.split(r'\\s+', data_row)]\n",
    "    \n",
    "    \n",
    "def parse_input_part_1(data):\n",
    "    _time = get_value(data[0], \"Time:\", \"int\")\n",
    "    dist = get_value(data[1], \"Distance:\", \"int\")\n",
    "    return list(zip(_time, dist))\n",
    "\n",
    "\n",
    "def parse_input_part_2(data):\n",
    "    _time = get_value(data[0], \"Time:\")\n",
    "    dist = get_value(data[1], \"Distance:\")\n",
    "    return int(''.join(_time)), int(''.join(dist))\n",
    "\n",
    "    \n",
    "def get_solution_1(time_dist_tuples):\n",
    "    print(time_dist_tuples)\n",
    "    win_solutions = []\n",
    "    \n",
    "    for time, dist in time_dist_tuples:\n",
    "        solution_count = 0\n",
    "        for min_time in range(time):\n",
    "            if dist < (time - min_time) * min_time:\n",
    "                solution_count += 1\n",
    "            if solution_count > 0 and dist > (time - min_time) * min_time:\n",
    "                break\n",
    "        win_solutions.append(solution_count)\n",
    "    return np.prod(win_solutions)\n",
    "            \n",
    "        \n",
    "    \n",
    "def get_solution_2(data):\n",
    "    solution_count = 0\n",
    "    for min_time in range(time):\n",
    "        if dist < (time - min_time) * min_time:\n",
    "            solution_count += 1\n",
    "        if solution_count > 0 and dist > (time - min_time) * min_time:\n",
    "            break\n",
    "    return solution_count\n",
    "\n",
    "\n",
    "\n",
    "\n",
    "file = \"data/day_6.txt\"\n",
    "# file = \"data/day_6_test.txt\"\n",
    "\n",
    "time_dist_pairs = parse_input_part_1(read_file(file))\n",
    "solution_1 = get_solution_1(time_dist_pairs)\n",
    "\n",
    "time, dist = parse_input_part_2(read_file(file))\n",
    "print(time, dist)\n",
    "solution_2 = get_solution_2(data)\n",
    "\n",
    "print(\"Day 6 - Solution 1:\", solution_1)  # 6209190\n",
    "print(\"Day 6 - Solution 2:\", solution_2)  # 28545089"
   ]
  },
  {
   "cell_type": "code",
   "execution_count": 24,
   "id": "88cb8d60",
   "metadata": {},
   "outputs": [
    {
     "data": {
      "text/plain": [
       "3"
      ]
     },
     "execution_count": 24,
     "metadata": {},
     "output_type": "execute_result"
    }
   ],
   "source": [
    "import math\n",
    "\n",
    "math.ceil(4)\n",
    "math.floor(3.5)\n",
    "7 //2"
   ]
  }
 ],
 "metadata": {
  "kernelspec": {
   "display_name": "Python 3 (ipykernel)",
   "language": "python",
   "name": "python3"
  },
  "language_info": {
   "codemirror_mode": {
    "name": "ipython",
    "version": 3
   },
   "file_extension": ".py",
   "mimetype": "text/x-python",
   "name": "python",
   "nbconvert_exporter": "python",
   "pygments_lexer": "ipython3",
   "version": "3.10.12"
  }
 },
 "nbformat": 4,
 "nbformat_minor": 5
}
