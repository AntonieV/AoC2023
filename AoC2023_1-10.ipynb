{
 "cells": [
  {
   "cell_type": "code",
   "execution_count": 51,
   "id": "ac0e57f3",
   "metadata": {},
   "outputs": [
    {
     "name": "stdout",
     "output_type": "stream",
     "text": [
      "Solution 1-1: 54667\n",
      "Solution 1-2: 54203\n"
     ]
    }
   ],
   "source": [
    "### https://adventofcode.com/2023/day/1\n",
    "\n",
    "\n",
    "import re\n",
    "\n",
    "\n",
    "\n",
    "TXT_2_DIGIT = {\n",
    "    \"one\": \"1\", \n",
    "    \"two\": \"2\", \n",
    "    \"three\": \"3\", \n",
    "    \"four\": \"4\", \n",
    "    \"five\": \"5\", \n",
    "    \"six\": \"6\", \n",
    "    \"seven\": \"7\", \n",
    "    \"eight\": \"8\", \n",
    "    \"nine\": \"9\"\n",
    "}\n",
    "\n",
    "\n",
    "def read_file(file_name):\n",
    "    with open(file_name, 'r') as f_in:\n",
    "        return [line.strip() for line in f_in.readlines()]\n",
    "    \n",
    "\n",
    "def get_solution_1_1(data):\n",
    "    digits = list(filter(None, [''.join(re.findall(r'\\d+', item)) for item in data]))\n",
    "    return sum([int(item[:1] + item[-1]) for item in digits])\n",
    "        \n",
    "    \n",
    "def get_solution_1_2(data):\n",
    "    data_preprocessed = []    \n",
    "    for item in data:\n",
    "        for key, digit in TXT_2_DIGIT.items():\n",
    "            item = item.replace(key, key[:-1] + str(digit) + key[1:])\n",
    "        data_preprocessed.append(item)\n",
    "    digits = list(filter(None, [''.join(re.findall(r'\\d+', item)) for item in data_preprocessed]))\n",
    "    return sum([int(item[:1] + item[-1]) for item in digits])\n",
    "\n",
    "\n",
    "file_1_1 = \"/mnt/development/workspace/Advent_of_Code/AoC2023/data/day_1_1.txt\"\n",
    "file_1_2 = \"/mnt/development/workspace/Advent_of_Code/AoC2023/data/day_1_2.txt\"\n",
    "\n",
    "data_1_1 = read_file(file_1_1)\n",
    "solution_1_1 = get_solution_1_1(data_1_1)\n",
    "\n",
    "data_1_2 = read_file(file_1_2)\n",
    "solution_1_2 = get_solution_1_2(data_1_2)\n",
    "\n",
    "print(\"Solution 1-1:\", solution_1_1)\n",
    "print(\"Solution 1-2:\", solution_1_2)"
   ]
  }
 ],
 "metadata": {
  "kernelspec": {
   "display_name": "Python 3 (ipykernel)",
   "language": "python",
   "name": "python3"
  },
  "language_info": {
   "codemirror_mode": {
    "name": "ipython",
    "version": 3
   },
   "file_extension": ".py",
   "mimetype": "text/x-python",
   "name": "python",
   "nbconvert_exporter": "python",
   "pygments_lexer": "ipython3",
   "version": "3.10.12"
  }
 },
 "nbformat": 4,
 "nbformat_minor": 5
}
